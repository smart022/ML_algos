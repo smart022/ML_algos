{
 "cells": [
  {
   "cell_type": "code",
   "execution_count": 58,
   "metadata": {},
   "outputs": [],
   "source": [
    "from sklearn import datasets\n",
    "from sklearn.model_selection import train_test_split\n",
    "from sklearn.linear_model import LinearRegression\n",
    "import numpy as np\n",
    "import pandas as pd\n",
    "from collections import Counter\n",
    "import matplotlib.pyplot as plt"
   ]
  },
  {
   "cell_type": "markdown",
   "metadata": {},
   "source": [
    "## 导入sklearn自带数据集"
   ]
  },
  {
   "cell_type": "code",
   "execution_count": 215,
   "metadata": {},
   "outputs": [],
   "source": [
    "loaded_data = datasets.load_breast_cancer() # for binary classification\n",
    "# loaded_data = datasets.load_iris() # for classification\n",
    "# loaded_data = datasets.load_boston() # for regression\n",
    "\n",
    "data_X = loaded_data.data\n",
    "data_y = loaded_data.target"
   ]
  },
  {
   "cell_type": "code",
   "execution_count": 216,
   "metadata": {},
   "outputs": [
    {
     "name": "stdout",
     "output_type": "stream",
     "text": [
      "(455, 30) (455,)\n"
     ]
    }
   ],
   "source": [
    "X_train, X_test, y_train, y_test = train_test_split(data_X, data_y, test_size=0.2, random_state=0)\n",
    "print(X_train.shape,y_train.shape)"
   ]
  },
  {
   "cell_type": "markdown",
   "metadata": {},
   "source": [
    "## 数据和标签合并"
   ]
  },
  {
   "cell_type": "code",
   "execution_count": 217,
   "metadata": {},
   "outputs": [
    {
     "name": "stdout",
     "output_type": "stream",
     "text": [
      "(455, 31)\n"
     ]
    }
   ],
   "source": [
    "train_data=np.hstack( [X_train,y_train.reshape(y_train.shape[0],1)])\n",
    "test_data=np.hstack( [X_test,y_test.reshape(y_test.shape[0],1)])\n",
    "print(train_data.shape)"
   ]
  },
  {
   "cell_type": "markdown",
   "metadata": {},
   "source": [
    "## 决策树"
   ]
  },
  {
   "cell_type": "code",
   "execution_count": 207,
   "metadata": {},
   "outputs": [],
   "source": [
    "class DecisionTree(object):\n",
    "    def __init__(self,data,treeType=0,min_E=.1,min_N=4):\n",
    "        ''' \n",
    "        @ param: data 数据集(带标签在最后一列)\n",
    "        @ param: treeType = {0,1} // CART(regression) CART(classification)\n",
    "        @ param: min_E 最小下降误差\n",
    "        @ param: min_N 最小划分样本数\n",
    "        '''\n",
    "        if int(treeType) not in [0,1]:\n",
    "            raise AssertionError(\"treeType incorrect!\")\n",
    "        self.N,self.M = np.shape(data[:,:-1])\n",
    "        self.treeType = treeType\n",
    "        self.min_E=min_E\n",
    "        self.min_N=min_N\n",
    "        self.tree = self.__create_tree(data)\n",
    "    \n",
    "    # use for CART regression\n",
    "    def __biSplitDataSet(self,dataset,idx,val):\n",
    "        greater = dataset[np.nonzero(dataset[:,idx] > val)[0],:]\n",
    "        lesser  = dataset[np.nonzero(dataset[:,idx] <= val)[0],:]\n",
    "        return greater,lesser\n",
    "    # use for CART regression\n",
    "    def __err_cal(self,dataset):\n",
    "        return np.var(dataset[:,-1])*np.shape(dataset)[0]\n",
    "    \n",
    "    # use for CART classification\n",
    "    def __entro_cal(self,dataset):\n",
    "        ct=Counter(dataset[:,-1])\n",
    "        D=sum(ct.values())\n",
    "        entro = .0\n",
    "        for k,v in ct.items():\n",
    "            p=v/float(D)\n",
    "            entro+= -p*np.log(p) # entro type\n",
    "            # entro += p*(1-p) # Gini type\n",
    "        return entro\n",
    "    \n",
    "    # leaf of regression 均值\n",
    "    def __reg_leaf(self,dataset):\n",
    "        return np.mean(dataset[:,-1])\n",
    "\n",
    "    # leaf of classification 多数表决类型\n",
    "    def __clf_leaf(self,dataset):\n",
    "        return int(Counter(dataset[:,-1]).most_common(1)[0][0])\n",
    "    \n",
    "    # main function\n",
    "    def __bestSplit(self,dataset):\n",
    "\n",
    "        min_E=self.min_E\n",
    "        min_N=self.min_N\n",
    "        n,m = np.shape(dataset[:,:-1])\n",
    "        \n",
    "        # 基于树的类型选择误差计算方式，和叶节点计算方式\n",
    "        if self.treeType == 0: # regression\n",
    "            err_cal = self.__err_cal\n",
    "            leaf_cal= self.__reg_leaf\n",
    "        else: # classification\n",
    "            err_cal = self.__entro_cal__entro_cal\n",
    "            leaf_cal= self.__clf_leaf\n",
    "        \n",
    "        # n小于最小划分样本数，直接返回叶点\n",
    "        if n  < min_N:\n",
    "            return None, leaf_cal(dataset)\n",
    "        if len(set(dataset[:,-1])) == 1:\n",
    "            return None, leaf_cal(dataset)\n",
    "        \n",
    "        \n",
    "        baseErr = err_cal(dataset)\n",
    "        minErr = baseErr+1\n",
    "        bestFeatIdx = -1\n",
    "        bestFeatVal = 0\n",
    "        \n",
    "        # 遍历特征和特征值，选择划分特征及划分点\n",
    "        for idx in range(m):\n",
    "            for val in set(dataset[:,idx]):\n",
    "                greater,lesser = self.__biSplitDataSet(dataset,idx,val)\n",
    "                if np.shape(greater)[0] < min_N or np.shape(lesser)[0] < min_N :\n",
    "                    continue\n",
    "                \n",
    "                # regression\n",
    "                if self.treeType == 0 :\n",
    "                    curErr = err_cal(greater)+err_cal(lesser)\n",
    "                # classification\n",
    "                else:\n",
    "                    curErr = (np.shape(greater)[0]/float(n))*err_cal(greater) \\\n",
    "                                +(np.shape(lesser)[0]/float(n))*err_cal(lesser)\n",
    "                \n",
    "                if curErr < minErr:\n",
    "                    minErr = curErr\n",
    "                    bestFeatIdx = idx\n",
    "                    bestFeatVal = val\n",
    "                    \n",
    "        # 下降误差过小，没有划分必要\n",
    "        if baseErr - minErr < min_E:\n",
    "            return None, np.mean(dataset[:,-1])\n",
    "        greater,lesser = self.__biSplitDataSet(dataset,bestFeatIdx,bestFeatVal)\n",
    "        \n",
    "        if np.shape(greater)[0] < min_N or np.shape(lesser)[0] < min_N :\n",
    "            return None, leaf_cal(dataset[:,-1])\n",
    "        \n",
    "        return bestFeatIdx,bestFeatVal\n",
    "\n",
    "    def __create_tree(self,dataset):\n",
    "        featIdx,featVal = self.__bestSplit(dataset)\n",
    "        if featIdx == None:\n",
    "            return featVal\n",
    "        retTree = {}\n",
    "        retTree['spIdx'] = featIdx\n",
    "        retTree['spVal'] = featVal\n",
    "        greater,lesser = self.__biSplitDataSet(dataset,featIdx,featVal)\n",
    "        retTree['left'] = self.__create_tree(lesser)\n",
    "        retTree['right'] = self.__create_tree(greater)\n",
    "        return retTree\n",
    "    \n",
    "    def __isTree(self,obj):\n",
    "        return isinstance(obj,dict)\n",
    "    \n",
    "    def __pred_helper(self,tree,inData):\n",
    "        if not self.__isTree(tree):\n",
    "            return float(tree)\n",
    "        if inData[tree['spIdx']]> tree['spVal']:\n",
    "            return self.__pred_helper(tree['right'],inData)\n",
    "        else:\n",
    "            return self.__pred_helper(tree['left'],inData)\n",
    "            \n",
    "    def predict(self,test_data):\n",
    "        yHat = np.zeros( np.shape(test_data)[0] )\n",
    "        i=0\n",
    "        for row in test_data:\n",
    "            yHat[i]=self.__pred_helper(self.tree,row)\n",
    "            i+=1\n",
    "        return yHat"
   ]
  },
  {
   "cell_type": "code",
   "execution_count": 218,
   "metadata": {},
   "outputs": [],
   "source": [
    "tt=DecisionTree(train_data,1,0.02,2) # 分类树 测试\n",
    "yH=tt.predict(test_data)"
   ]
  },
  {
   "cell_type": "code",
   "execution_count": 222,
   "metadata": {},
   "outputs": [
    {
     "name": "stdout",
     "output_type": "stream",
     "text": [
      "10\n",
      "104\n",
      "accuracy:0.91228\n"
     ]
    }
   ],
   "source": [
    "err_size=len(    np.nonzero(yH!=test_data[:,-1])[0]  )\n",
    "print(len(    np.nonzero(yH!=test_data[:,-1])[0]  ))\n",
    "print(len(    np.nonzero(yH==test_data[:,-1])[0]  ))\n",
    "print(\"accuracy: {:.5}\".format(1- err_size/np.shape(test_data)[0]))"
   ]
  }
 ],
 "metadata": {
  "kernelspec": {
   "display_name": "Python 3",
   "language": "python",
   "name": "python3"
  },
  "language_info": {
   "codemirror_mode": {
    "name": "ipython",
    "version": 3
   },
   "file_extension": ".py",
   "mimetype": "text/x-python",
   "name": "python",
   "nbconvert_exporter": "python",
   "pygments_lexer": "ipython3",
   "version": "3.7.2"
  }
 },
 "nbformat": 4,
 "nbformat_minor": 2
}
